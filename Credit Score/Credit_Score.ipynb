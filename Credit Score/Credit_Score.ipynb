{
 "cells": [
  {
   "cell_type": "code",
   "execution_count": 18,
   "metadata": {},
   "outputs": [],
   "source": [
    "import numpy as np\n",
    "import matplotlib.pyplot as plt\n",
    "import pandas as pd\n",
    "import seaborn as sns"
   ]
  },
  {
   "cell_type": "code",
   "execution_count": 19,
   "metadata": {},
   "outputs": [
    {
     "data": {
      "text/html": [
       "<div>\n",
       "<style scoped>\n",
       "    .dataframe tbody tr th:only-of-type {\n",
       "        vertical-align: middle;\n",
       "    }\n",
       "\n",
       "    .dataframe tbody tr th {\n",
       "        vertical-align: top;\n",
       "    }\n",
       "\n",
       "    .dataframe thead th {\n",
       "        text-align: right;\n",
       "    }\n",
       "</style>\n",
       "<table border=\"1\" class=\"dataframe\">\n",
       "  <thead>\n",
       "    <tr style=\"text-align: right;\">\n",
       "      <th></th>\n",
       "      <th>Month</th>\n",
       "      <th>Age</th>\n",
       "      <th>Occupation</th>\n",
       "      <th>Annual_Income</th>\n",
       "      <th>Monthly_Inhand_Salary</th>\n",
       "      <th>Num_Bank_Accounts</th>\n",
       "      <th>Num_Credit_Card</th>\n",
       "      <th>Interest_Rate</th>\n",
       "      <th>Num_of_Loan</th>\n",
       "      <th>Delay_from_due_date</th>\n",
       "      <th>...</th>\n",
       "      <th>Num_Credit_Inquiries</th>\n",
       "      <th>Credit_Mix</th>\n",
       "      <th>Outstanding_Debt</th>\n",
       "      <th>Credit_Utilization_Ratio</th>\n",
       "      <th>Payment_of_Min_Amount</th>\n",
       "      <th>Total_EMI_per_month</th>\n",
       "      <th>Amount_invested_monthly</th>\n",
       "      <th>Payment_Behaviour</th>\n",
       "      <th>Monthly_Balance</th>\n",
       "      <th>Credit_Score</th>\n",
       "    </tr>\n",
       "  </thead>\n",
       "  <tbody>\n",
       "    <tr>\n",
       "      <th>28491</th>\n",
       "      <td>April</td>\n",
       "      <td>23</td>\n",
       "      <td>Scientist</td>\n",
       "      <td>95844.33</td>\n",
       "      <td>7997.027500</td>\n",
       "      <td>1</td>\n",
       "      <td>3</td>\n",
       "      <td>4</td>\n",
       "      <td>-100</td>\n",
       "      <td>16</td>\n",
       "      <td>...</td>\n",
       "      <td>7.0</td>\n",
       "      <td>_</td>\n",
       "      <td>479.27</td>\n",
       "      <td>34.997137</td>\n",
       "      <td>No</td>\n",
       "      <td>264.765024</td>\n",
       "      <td>551.7706176324849</td>\n",
       "      <td>Low_spent_Medium_value_payments</td>\n",
       "      <td>263.16710845712885</td>\n",
       "      <td>Poor</td>\n",
       "    </tr>\n",
       "    <tr>\n",
       "      <th>89087</th>\n",
       "      <td>August</td>\n",
       "      <td>18</td>\n",
       "      <td>Writer</td>\n",
       "      <td>32144.54</td>\n",
       "      <td>2950.711667</td>\n",
       "      <td>9</td>\n",
       "      <td>7</td>\n",
       "      <td>32</td>\n",
       "      <td>8</td>\n",
       "      <td>28</td>\n",
       "      <td>...</td>\n",
       "      <td>6.0</td>\n",
       "      <td>Bad</td>\n",
       "      <td>3360.92</td>\n",
       "      <td>37.337103</td>\n",
       "      <td>Yes</td>\n",
       "      <td>166.090653</td>\n",
       "      <td>242.1195285751291</td>\n",
       "      <td>Low_spent_Small_value_payments</td>\n",
       "      <td>176.86098522197787</td>\n",
       "      <td>Standard</td>\n",
       "    </tr>\n",
       "    <tr>\n",
       "      <th>10638</th>\n",
       "      <td>July</td>\n",
       "      <td>38</td>\n",
       "      <td>Musician</td>\n",
       "      <td>89757.46</td>\n",
       "      <td>6373.027993</td>\n",
       "      <td>2</td>\n",
       "      <td>1</td>\n",
       "      <td>2</td>\n",
       "      <td>-100</td>\n",
       "      <td>1</td>\n",
       "      <td>...</td>\n",
       "      <td>0.0</td>\n",
       "      <td>Good</td>\n",
       "      <td>149.48</td>\n",
       "      <td>32.744756</td>\n",
       "      <td>No</td>\n",
       "      <td>943.760341</td>\n",
       "      <td>NaN</td>\n",
       "      <td>!@9#%8</td>\n",
       "      <td>535.6159833511476</td>\n",
       "      <td>Good</td>\n",
       "    </tr>\n",
       "    <tr>\n",
       "      <th>40446</th>\n",
       "      <td>July</td>\n",
       "      <td>48</td>\n",
       "      <td>_______</td>\n",
       "      <td>15641.73</td>\n",
       "      <td>NaN</td>\n",
       "      <td>1</td>\n",
       "      <td>4</td>\n",
       "      <td>8</td>\n",
       "      <td>4</td>\n",
       "      <td>2</td>\n",
       "      <td>...</td>\n",
       "      <td>3.0</td>\n",
       "      <td>Good</td>\n",
       "      <td>1429.18</td>\n",
       "      <td>35.303347</td>\n",
       "      <td>No</td>\n",
       "      <td>30.882707</td>\n",
       "      <td>91.25462230957126</td>\n",
       "      <td>Low_spent_Large_value_payments</td>\n",
       "      <td>268.41042027265496</td>\n",
       "      <td>Good</td>\n",
       "    </tr>\n",
       "    <tr>\n",
       "      <th>55421</th>\n",
       "      <td>June</td>\n",
       "      <td>32</td>\n",
       "      <td>Accountant</td>\n",
       "      <td>31700.3_</td>\n",
       "      <td>2444.691667</td>\n",
       "      <td>10</td>\n",
       "      <td>8</td>\n",
       "      <td>16</td>\n",
       "      <td>-100</td>\n",
       "      <td>28</td>\n",
       "      <td>...</td>\n",
       "      <td>9.0</td>\n",
       "      <td>Standard</td>\n",
       "      <td>2482.73</td>\n",
       "      <td>38.989328</td>\n",
       "      <td>Yes</td>\n",
       "      <td>69742.000000</td>\n",
       "      <td>215.93351919534481</td>\n",
       "      <td>Low_spent_Small_value_payments</td>\n",
       "      <td>251.66953013149947</td>\n",
       "      <td>Poor</td>\n",
       "    </tr>\n",
       "  </tbody>\n",
       "</table>\n",
       "<p>5 rows × 22 columns</p>\n",
       "</div>"
      ],
      "text/plain": [
       "        Month Age  Occupation Annual_Income  Monthly_Inhand_Salary  \\\n",
       "28491   April  23   Scientist      95844.33            7997.027500   \n",
       "89087  August  18      Writer      32144.54            2950.711667   \n",
       "10638    July  38    Musician      89757.46            6373.027993   \n",
       "40446    July  48     _______      15641.73                    NaN   \n",
       "55421    June  32  Accountant      31700.3_            2444.691667   \n",
       "\n",
       "       Num_Bank_Accounts  Num_Credit_Card  Interest_Rate Num_of_Loan  \\\n",
       "28491                  1                3              4        -100   \n",
       "89087                  9                7             32           8   \n",
       "10638                  2                1              2        -100   \n",
       "40446                  1                4              8           4   \n",
       "55421                 10                8             16        -100   \n",
       "\n",
       "       Delay_from_due_date  ... Num_Credit_Inquiries Credit_Mix  \\\n",
       "28491                   16  ...                  7.0          _   \n",
       "89087                   28  ...                  6.0        Bad   \n",
       "10638                    1  ...                  0.0       Good   \n",
       "40446                    2  ...                  3.0       Good   \n",
       "55421                   28  ...                  9.0   Standard   \n",
       "\n",
       "       Outstanding_Debt Credit_Utilization_Ratio Payment_of_Min_Amount  \\\n",
       "28491            479.27                34.997137                    No   \n",
       "89087           3360.92                37.337103                   Yes   \n",
       "10638            149.48                32.744756                    No   \n",
       "40446           1429.18                35.303347                    No   \n",
       "55421           2482.73                38.989328                   Yes   \n",
       "\n",
       "       Total_EMI_per_month Amount_invested_monthly  \\\n",
       "28491           264.765024       551.7706176324849   \n",
       "89087           166.090653       242.1195285751291   \n",
       "10638           943.760341                     NaN   \n",
       "40446            30.882707       91.25462230957126   \n",
       "55421         69742.000000      215.93351919534481   \n",
       "\n",
       "                     Payment_Behaviour     Monthly_Balance Credit_Score  \n",
       "28491  Low_spent_Medium_value_payments  263.16710845712885         Poor  \n",
       "89087   Low_spent_Small_value_payments  176.86098522197787     Standard  \n",
       "10638                           !@9#%8   535.6159833511476         Good  \n",
       "40446   Low_spent_Large_value_payments  268.41042027265496         Good  \n",
       "55421   Low_spent_Small_value_payments  251.66953013149947         Poor  \n",
       "\n",
       "[5 rows x 22 columns]"
      ]
     },
     "execution_count": 19,
     "metadata": {},
     "output_type": "execute_result"
    }
   ],
   "source": [
    "#Data Loading\n",
    "df =  pd.read_csv(\"credit_score.csv\", low_memory=False)\n",
    "df = df.drop(columns=['ID','Customer_ID','Name','SSN','Type_of_Loan','Credit_History_Age'])\n",
    "df.sample(5)"
   ]
  },
  {
   "cell_type": "code",
   "execution_count": 20,
   "metadata": {},
   "outputs": [
    {
     "name": "stdout",
     "output_type": "stream",
     "text": [
      "<class 'pandas.core.frame.DataFrame'>\n",
      "RangeIndex: 100000 entries, 0 to 99999\n",
      "Data columns (total 22 columns):\n",
      " #   Column                    Non-Null Count   Dtype  \n",
      "---  ------                    --------------   -----  \n",
      " 0   Month                     100000 non-null  object \n",
      " 1   Age                       100000 non-null  object \n",
      " 2   Occupation                100000 non-null  object \n",
      " 3   Annual_Income             100000 non-null  object \n",
      " 4   Monthly_Inhand_Salary     84998 non-null   float64\n",
      " 5   Num_Bank_Accounts         100000 non-null  int64  \n",
      " 6   Num_Credit_Card           100000 non-null  int64  \n",
      " 7   Interest_Rate             100000 non-null  int64  \n",
      " 8   Num_of_Loan               100000 non-null  object \n",
      " 9   Delay_from_due_date       100000 non-null  int64  \n",
      " 10  Num_of_Delayed_Payment    92998 non-null   object \n",
      " 11  Changed_Credit_Limit      100000 non-null  object \n",
      " 12  Num_Credit_Inquiries      98035 non-null   float64\n",
      " 13  Credit_Mix                100000 non-null  object \n",
      " 14  Outstanding_Debt          100000 non-null  object \n",
      " 15  Credit_Utilization_Ratio  100000 non-null  float64\n",
      " 16  Payment_of_Min_Amount     100000 non-null  object \n",
      " 17  Total_EMI_per_month       100000 non-null  float64\n",
      " 18  Amount_invested_monthly   95521 non-null   object \n",
      " 19  Payment_Behaviour         100000 non-null  object \n",
      " 20  Monthly_Balance           98800 non-null   object \n",
      " 21  Credit_Score              100000 non-null  object \n",
      "dtypes: float64(4), int64(4), object(14)\n",
      "memory usage: 16.8+ MB\n"
     ]
    }
   ],
   "source": [
    "df.info()"
   ]
  },
  {
   "cell_type": "code",
   "execution_count": 21,
   "metadata": {},
   "outputs": [
    {
     "data": {
      "text/plain": [
       "Month                           0\n",
       "Age                             0\n",
       "Occupation                      0\n",
       "Annual_Income                   0\n",
       "Monthly_Inhand_Salary       15002\n",
       "Num_Bank_Accounts               0\n",
       "Num_Credit_Card                 0\n",
       "Interest_Rate                   0\n",
       "Num_of_Loan                     0\n",
       "Delay_from_due_date             0\n",
       "Num_of_Delayed_Payment       7002\n",
       "Changed_Credit_Limit            0\n",
       "Num_Credit_Inquiries         1965\n",
       "Credit_Mix                      0\n",
       "Outstanding_Debt                0\n",
       "Credit_Utilization_Ratio        0\n",
       "Payment_of_Min_Amount           0\n",
       "Total_EMI_per_month             0\n",
       "Amount_invested_monthly      4479\n",
       "Payment_Behaviour               0\n",
       "Monthly_Balance              1200\n",
       "Credit_Score                    0\n",
       "dtype: int64"
      ]
     },
     "execution_count": 21,
     "metadata": {},
     "output_type": "execute_result"
    }
   ],
   "source": [
    "df.isnull().sum()"
   ]
  },
  {
   "cell_type": "code",
   "execution_count": 22,
   "metadata": {},
   "outputs": [
    {
     "name": "stdout",
     "output_type": "stream",
     "text": [
      "<class 'pandas.core.frame.DataFrame'>\n",
      "RangeIndex: 100000 entries, 0 to 99999\n",
      "Data columns (total 22 columns):\n",
      " #   Column                    Non-Null Count   Dtype  \n",
      "---  ------                    --------------   -----  \n",
      " 0   Month                     100000 non-null  object \n",
      " 1   Age                       100000 non-null  int32  \n",
      " 2   Occupation                100000 non-null  object \n",
      " 3   Annual_Income             100000 non-null  float64\n",
      " 4   Monthly_Inhand_Salary     100000 non-null  float64\n",
      " 5   Num_Bank_Accounts         100000 non-null  int64  \n",
      " 6   Num_Credit_Card           100000 non-null  int64  \n",
      " 7   Interest_Rate             100000 non-null  int64  \n",
      " 8   Num_of_Loan               100000 non-null  int32  \n",
      " 9   Delay_from_due_date       100000 non-null  int64  \n",
      " 10  Num_of_Delayed_Payment    100000 non-null  float64\n",
      " 11  Changed_Credit_Limit      100000 non-null  float64\n",
      " 12  Num_Credit_Inquiries      100000 non-null  float64\n",
      " 13  Credit_Mix                100000 non-null  int32  \n",
      " 14  Outstanding_Debt          100000 non-null  float64\n",
      " 15  Credit_Utilization_Ratio  100000 non-null  float64\n",
      " 16  Payment_of_Min_Amount     100000 non-null  int32  \n",
      " 17  Total_EMI_per_month       100000 non-null  float64\n",
      " 18  Amount_invested_monthly   100000 non-null  float64\n",
      " 19  Payment_Behaviour         100000 non-null  object \n",
      " 20  Monthly_Balance           100000 non-null  float64\n",
      " 21  Credit_Score              100000 non-null  int32  \n",
      "dtypes: float64(10), int32(5), int64(4), object(3)\n",
      "memory usage: 14.9+ MB\n"
     ]
    }
   ],
   "source": [
    "#Data Cleaning\n",
    "pd.set_option('future.no_silent_downcasting', True)\n",
    "df['Age'] = df['Age'].str.replace('_','')\n",
    "df['Age'] = df['Age'].astype(int)\n",
    "df['Occupation'] = df['Occupation'].replace('_______',np.nan)\n",
    "df['Annual_Income'] = df['Annual_Income'].str.replace('_','')\n",
    "df['Annual_Income'] = df['Annual_Income'].astype(float)\n",
    "df['Num_of_Loan'] = df['Num_of_Loan'].str.replace('_','')\n",
    "df['Num_of_Loan'] = df['Num_of_Loan'].astype(int)\n",
    "df['Num_of_Delayed_Payment'] = df['Num_of_Delayed_Payment'].str.replace('_','')\n",
    "df['Num_of_Delayed_Payment'] = df['Num_of_Delayed_Payment'].astype(float)\n",
    "df['Credit_Score'] = df['Credit_Score'].replace(['Poor','Standard','Good'],[0,1,2])\n",
    "df['Monthly_Balance'] = df['Monthly_Balance'].str.replace('_','')\n",
    "df['Monthly_Balance'] = df['Monthly_Balance'].astype(float)\n",
    "df['Payment_Behaviour'] = df['Payment_Behaviour'].replace('!@9#%8',np.nan)\n",
    "df['Amount_invested_monthly'] = df['Amount_invested_monthly'].str.replace('_','')\n",
    "df['Amount_invested_monthly'] = df['Amount_invested_monthly'].astype(float)\n",
    "df['Payment_of_Min_Amount'] = df['Payment_of_Min_Amount'].replace('NM','No')\n",
    "df['Payment_of_Min_Amount'] = df['Payment_of_Min_Amount'].replace(['Yes','No'],[1,0])\n",
    "df['Outstanding_Debt'] = df['Outstanding_Debt'].str.replace('_','')\n",
    "df['Outstanding_Debt'] = df['Outstanding_Debt'].astype(float)\n",
    "df['Credit_Mix'] = df['Credit_Mix'].replace('_', np.nan)\n",
    "df['Credit_Mix'] = df['Credit_Mix'].replace(['Standard','Good','Bad'],[1,2,0])\n",
    "df['Changed_Credit_Limit'] = df['Changed_Credit_Limit'].replace('_',np.nan)\n",
    "df['Changed_Credit_Limit'] = df['Changed_Credit_Limit'].astype(float)\n",
    "\n",
    "#Filling Missing Values\n",
    "df = df.ffill()\n",
    "df = df.bfill()\n",
    "df['Credit_Mix'] = df['Credit_Mix'].astype(int)\n",
    "df['Payment_of_Min_Amount'] = df['Payment_of_Min_Amount'].astype(int)\n",
    "df['Credit_Score'] = df['Credit_Score'].astype(int)\n",
    "df.info()"
   ]
  },
  {
   "cell_type": "code",
   "execution_count": 23,
   "metadata": {},
   "outputs": [
    {
     "data": {
      "text/plain": [
       "Month                       0\n",
       "Age                         0\n",
       "Occupation                  0\n",
       "Annual_Income               0\n",
       "Monthly_Inhand_Salary       0\n",
       "Num_Bank_Accounts           0\n",
       "Num_Credit_Card             0\n",
       "Interest_Rate               0\n",
       "Num_of_Loan                 0\n",
       "Delay_from_due_date         0\n",
       "Num_of_Delayed_Payment      0\n",
       "Changed_Credit_Limit        0\n",
       "Num_Credit_Inquiries        0\n",
       "Credit_Mix                  0\n",
       "Outstanding_Debt            0\n",
       "Credit_Utilization_Ratio    0\n",
       "Payment_of_Min_Amount       0\n",
       "Total_EMI_per_month         0\n",
       "Amount_invested_monthly     0\n",
       "Payment_Behaviour           0\n",
       "Monthly_Balance             0\n",
       "Credit_Score                0\n",
       "dtype: int64"
      ]
     },
     "execution_count": 23,
     "metadata": {},
     "output_type": "execute_result"
    }
   ],
   "source": [
    "df.isnull().sum()"
   ]
  },
  {
   "cell_type": "code",
   "execution_count": 24,
   "metadata": {},
   "outputs": [
    {
     "data": {
      "image/png": "[encoded data removed]",
      "text/plain": [
       "<Figure size 640x480 with 1 Axes>"
      ]
     },
     "metadata": {},
     "output_type": "display_data"
    }
   ],
   "source": [
    "sns.boxplot(df['Age'])\n",
    "plt.show()"
   ]
  },
  {
   "cell_type": "code",
   "execution_count": 25,
   "metadata": {},
   "outputs": [
    {
     "data": {
      "image/png": "[encoded data removed]",
      "text/plain": [
       "<Figure size 640x480 with 1 Axes>"
      ]
     },
     "metadata": {},
     "output_type": "display_data"
    }
   ],
   "source": [
    "#Outlier Detection\n",
    "q1 = df['Age'].quantile(0.25)\n",
    "q3 = df['Age'].quantile(0.75)\n",
    "iqr = q3 - q1\n",
    "data = df[(df['Age'] >= q1 - 1.5*iqr) & (df['Age'] <= q3 + 1.5*iqr)]\n",
    "sns.boxplot(data['Age'])\n",
    "plt.show()"
   ]
  },
  {
   "cell_type": "code",
   "execution_count": 26,
   "metadata": {},
   "outputs": [
    {
     "name": "stdout",
     "output_type": "stream",
     "text": [
      "<class 'pandas.core.frame.DataFrame'>\n",
      "RangeIndex: 100000 entries, 0 to 99999\n",
      "Data columns (total 22 columns):\n",
      " #   Column                    Non-Null Count   Dtype  \n",
      "---  ------                    --------------   -----  \n",
      " 0   Month                     100000 non-null  int32  \n",
      " 1   Age                       100000 non-null  int32  \n",
      " 2   Occupation                100000 non-null  int32  \n",
      " 3   Annual_Income             100000 non-null  float64\n",
      " 4   Monthly_Inhand_Salary     100000 non-null  float64\n",
      " 5   Num_Bank_Accounts         100000 non-null  int64  \n",
      " 6   Num_Credit_Card           100000 non-null  int64  \n",
      " 7   Interest_Rate             100000 non-null  int64  \n",
      " 8   Num_of_Loan               100000 non-null  int32  \n",
      " 9   Delay_from_due_date       100000 non-null  int64  \n",
      " 10  Num_of_Delayed_Payment    100000 non-null  float64\n",
      " 11  Changed_Credit_Limit      100000 non-null  float64\n",
      " 12  Num_Credit_Inquiries      100000 non-null  float64\n",
      " 13  Credit_Mix                100000 non-null  int32  \n",
      " 14  Outstanding_Debt          100000 non-null  float64\n",
      " 15  Credit_Utilization_Ratio  100000 non-null  float64\n",
      " 16  Payment_of_Min_Amount     100000 non-null  int32  \n",
      " 17  Total_EMI_per_month       100000 non-null  float64\n",
      " 18  Amount_invested_monthly   100000 non-null  float64\n",
      " 19  Payment_Behaviour         100000 non-null  int32  \n",
      " 20  Monthly_Balance           100000 non-null  float64\n",
      " 21  Credit_Score              100000 non-null  int32  \n",
      "dtypes: float64(10), int32(8), int64(4)\n",
      "memory usage: 13.7 MB\n"
     ]
    }
   ],
   "source": [
    "#Feature Engineering\n",
    "\n",
    "from sklearn.preprocessing import LabelEncoder\n",
    "le = LabelEncoder()\n",
    "df['Occupation'] = le.fit_transform(df['Occupation'])\n",
    "df['Payment_Behaviour'] = le.fit_transform(df['Payment_Behaviour'])\n",
    "df['Month'] = le.fit_transform(df['Month'])\n",
    "\n",
    "df.info()"
   ]
  },
  {
   "cell_type": "code",
   "execution_count": 27,
   "metadata": {},
   "outputs": [
    {
     "name": "stdout",
     "output_type": "stream",
     "text": [
      "                     feature       VIF\n",
      "0                      Month  0.300012\n",
      "1                        Age  0.974661\n",
      "2                 Occupation  0.277722\n",
      "3              Annual_Income  0.985001\n",
      "4      Monthly_Inhand_Salary  0.365970\n",
      "5          Num_Bank_Accounts  0.979247\n",
      "6            Num_Credit_Card  0.970567\n",
      "7              Interest_Rate  0.976430\n",
      "8                Num_of_Loan  0.997697\n",
      "9        Delay_from_due_date  0.332213\n",
      "10    Num_of_Delayed_Payment  0.981707\n",
      "11      Changed_Credit_Limit  0.299307\n",
      "12      Num_Credit_Inquiries  0.979793\n",
      "13                Credit_Mix  0.321474\n",
      "14          Outstanding_Debt  0.396141\n",
      "15  Credit_Utilization_Ratio  0.024506\n",
      "16     Payment_of_Min_Amount  0.476749\n",
      "17       Total_EMI_per_month  0.972258\n",
      "18   Amount_invested_monthly  0.911321\n",
      "19         Payment_Behaviour  0.310525\n",
      "20           Monthly_Balance  1.000207\n"
     ]
    }
   ],
   "source": [
    "#Feature Selection\n",
    "from statsmodels.stats.outliers_influence import variance_inflation_factor\n",
    "\n",
    "col_list = []\n",
    "for i in df.columns:\n",
    "    if i != 'Credit_Score':\n",
    "        col_list.append(i)\n",
    "\n",
    "X = df[col_list]\n",
    "vif_data = pd.DataFrame()\n",
    "vif_data['feature'] = X.columns\n",
    "vif_data['VIF'] = [variance_inflation_factor(X.values, i) for i in range(len(X.columns))]\n",
    "\n",
    "print(vif_data)"
   ]
  },
  {
   "cell_type": "code",
   "execution_count": 28,
   "metadata": {},
   "outputs": [],
   "source": [
    "x = df.drop(columns=['Credit_Score'])\n",
    "y = df['Credit_Score']\n",
    "\n",
    "from sklearn.model_selection import train_test_split\n",
    "from sklearn.preprocessing import StandardScaler\n",
    "x_train, x_test, y_train, y_test = train_test_split(x, y, test_size=0.2, random_state=0)\n",
    "\n",
    "sc = StandardScaler()\n",
    "x_train = sc.fit_transform(x_train)\n",
    "x_test = sc.transform(x_test)\n"
   ]
  },
  {
   "cell_type": "code",
   "execution_count": 29,
   "metadata": {},
   "outputs": [
    {
     "name": "stdout",
     "output_type": "stream",
     "text": [
      "Accuracy : 61.975%\n"
     ]
    }
   ],
   "source": [
    "from sklearn.linear_model import LogisticRegression\n",
    "from sklearn.metrics import accuracy_score\n",
    "\n",
    "lr = LogisticRegression()\n",
    "lr.fit(x_train, y_train)\n",
    "y_pred = lr.predict(x_test)\n",
    "\n",
    "print(f'Accuracy : {accuracy_score(y_test, y_pred)*100}%')"
   ]
  },
  {
   "cell_type": "code",
   "execution_count": 30,
   "metadata": {},
   "outputs": [
    {
     "name": "stdout",
     "output_type": "stream",
     "text": [
      "Accuracy : 68.91000000000001%\n"
     ]
    }
   ],
   "source": [
    "from sklearn.tree import DecisionTreeClassifier\n",
    "dt = DecisionTreeClassifier()\n",
    "dt.fit(x_train, y_train)\n",
    "y_pred = dt.predict(x_test)\n",
    "print(f'Accuracy : {accuracy_score(y_test, y_pred)*100}%')"
   ]
  },
  {
   "cell_type": "code",
   "execution_count": 31,
   "metadata": {},
   "outputs": [
    {
     "name": "stdout",
     "output_type": "stream",
     "text": [
      "Accuracy : 79.675%\n"
     ]
    }
   ],
   "source": [
    "from sklearn.ensemble import RandomForestClassifier\n",
    "rf = RandomForestClassifier()\n",
    "rf.fit(x_train, y_train)\n",
    "y_pred = rf.predict(x_test)\n",
    "print(f'Accuracy : {accuracy_score(y_test, y_pred)*100}%')"
   ]
  }
 ],
 "metadata": {
  "kernelspec": {
   "display_name": "base",
   "language": "python",
   "name": "python3"
  },
  "language_info": {
   "codemirror_mode": {
    "name": "ipython",
    "version": 3
   },
   "file_extension": ".py",
   "mimetype": "text/x-python",
   "name": "python",
   "nbconvert_exporter": "python",
   "pygments_lexer": "ipython3",
   "version": "3.12.7"
  }
 },
 "nbformat": 4,
 "nbformat_minor": 2
}
