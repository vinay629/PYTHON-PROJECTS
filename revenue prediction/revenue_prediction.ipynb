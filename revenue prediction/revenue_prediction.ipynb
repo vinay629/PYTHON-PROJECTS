{
 "cells": [
  {
   "cell_type": "code",
   "execution_count": 48,
   "metadata": {},
   "outputs": [],
   "source": [
    "import numpy as np\n",
    "import pandas as pd\n",
    "import matplotlib.pyplot as plt\n",
    "import seaborn as sns\n",
    "from sklearn.preprocessing import LabelEncoder\n",
    "from sklearn.ensemble import RandomForestClassifier\n",
    "from sklearn.model_selection import train_test_split\n",
    "from sklearn.metrics import accuracy_score, confusion_matrix, classification_report\n"
   ]
  },
  {
   "cell_type": "code",
   "execution_count": 49,
   "metadata": {},
   "outputs": [
    {
     "data": {
      "text/html": [
       "<div>\n",
       "<style scoped>\n",
       "    .dataframe tbody tr th:only-of-type {\n",
       "        vertical-align: middle;\n",
       "    }\n",
       "\n",
       "    .dataframe tbody tr th {\n",
       "        vertical-align: top;\n",
       "    }\n",
       "\n",
       "    .dataframe thead th {\n",
       "        text-align: right;\n",
       "    }\n",
       "</style>\n",
       "<table border=\"1\" class=\"dataframe\">\n",
       "  <thead>\n",
       "    <tr style=\"text-align: right;\">\n",
       "      <th></th>\n",
       "      <th>Franchise</th>\n",
       "      <th>Category</th>\n",
       "      <th>City</th>\n",
       "      <th>No_Of_Item</th>\n",
       "      <th>Order_Placed</th>\n",
       "      <th>Revenue</th>\n",
       "    </tr>\n",
       "  </thead>\n",
       "  <tbody>\n",
       "    <tr>\n",
       "      <th>64</th>\n",
       "      <td>Yes</td>\n",
       "      <td>Varied Menu</td>\n",
       "      <td>Bengaluru</td>\n",
       "      <td>32</td>\n",
       "      <td>2.4</td>\n",
       "      <td>2551252</td>\n",
       "    </tr>\n",
       "    <tr>\n",
       "      <th>70</th>\n",
       "      <td>No</td>\n",
       "      <td>Italian/Pizza</td>\n",
       "      <td>Noida</td>\n",
       "      <td>47</td>\n",
       "      <td>3.8</td>\n",
       "      <td>3982767</td>\n",
       "    </tr>\n",
       "    <tr>\n",
       "      <th>55</th>\n",
       "      <td>No</td>\n",
       "      <td>Sandwich</td>\n",
       "      <td>Mumbai</td>\n",
       "      <td>79</td>\n",
       "      <td>6.8</td>\n",
       "      <td>6941173</td>\n",
       "    </tr>\n",
       "    <tr>\n",
       "      <th>53</th>\n",
       "      <td>No</td>\n",
       "      <td>Steak</td>\n",
       "      <td>Noida</td>\n",
       "      <td>61</td>\n",
       "      <td>5.4</td>\n",
       "      <td>5595267</td>\n",
       "    </tr>\n",
       "    <tr>\n",
       "      <th>80</th>\n",
       "      <td>No</td>\n",
       "      <td>Varied Menu</td>\n",
       "      <td>Bengaluru</td>\n",
       "      <td>42</td>\n",
       "      <td>3.5</td>\n",
       "      <td>3727364</td>\n",
       "    </tr>\n",
       "  </tbody>\n",
       "</table>\n",
       "</div>"
      ],
      "text/plain": [
       "   Franchise       Category       City  No_Of_Item  Order_Placed  Revenue\n",
       "64       Yes    Varied Menu  Bengaluru          32           2.4  2551252\n",
       "70        No  Italian/Pizza      Noida          47           3.8  3982767\n",
       "55        No       Sandwich     Mumbai          79           6.8  6941173\n",
       "53        No          Steak      Noida          61           5.4  5595267\n",
       "80        No    Varied Menu  Bengaluru          42           3.5  3727364"
      ]
     },
     "execution_count": 49,
     "metadata": {},
     "output_type": "execute_result"
    }
   ],
   "source": [
    "df = pd.read_csv('data.csv')\n",
    "df = df.drop(columns=['Id', 'Name'])\n",
    "df.sample(5)"
   ]
  },
  {
   "cell_type": "code",
   "execution_count": 50,
   "metadata": {},
   "outputs": [],
   "source": [
    "la = LabelEncoder()\n",
    "df['Franchise'] = la.fit_transform(df['Franchise'])\n",
    "df['Category'] = la.fit_transform(df['Category'])\n",
    "df['City'] = la.fit_transform(df['City'])\n",
    "\n"
   ]
  },
  {
   "cell_type": "code",
   "execution_count": 51,
   "metadata": {},
   "outputs": [
    {
     "data": {
      "text/html": [
       "<div>\n",
       "<style scoped>\n",
       "    .dataframe tbody tr th:only-of-type {\n",
       "        vertical-align: middle;\n",
       "    }\n",
       "\n",
       "    .dataframe tbody tr th {\n",
       "        vertical-align: top;\n",
       "    }\n",
       "\n",
       "    .dataframe thead th {\n",
       "        text-align: right;\n",
       "    }\n",
       "</style>\n",
       "<table border=\"1\" class=\"dataframe\">\n",
       "  <thead>\n",
       "    <tr style=\"text-align: right;\">\n",
       "      <th></th>\n",
       "      <th>Franchise</th>\n",
       "      <th>Category</th>\n",
       "      <th>City</th>\n",
       "      <th>No_Of_Item</th>\n",
       "      <th>Order_Placed</th>\n",
       "      <th>Revenue</th>\n",
       "    </tr>\n",
       "  </thead>\n",
       "  <tbody>\n",
       "    <tr>\n",
       "      <th>count</th>\n",
       "      <td>100.00</td>\n",
       "      <td>100.000000</td>\n",
       "      <td>100.000000</td>\n",
       "      <td>100.000000</td>\n",
       "      <td>100.000000</td>\n",
       "      <td>1.000000e+02</td>\n",
       "    </tr>\n",
       "    <tr>\n",
       "      <th>mean</th>\n",
       "      <td>0.55</td>\n",
       "      <td>11.480000</td>\n",
       "      <td>1.510000</td>\n",
       "      <td>49.080000</td>\n",
       "      <td>4.086000</td>\n",
       "      <td>4.395161e+06</td>\n",
       "    </tr>\n",
       "    <tr>\n",
       "      <th>std</th>\n",
       "      <td>0.50</td>\n",
       "      <td>5.675537</td>\n",
       "      <td>1.507523</td>\n",
       "      <td>22.370923</td>\n",
       "      <td>2.055101</td>\n",
       "      <td>2.659932e+06</td>\n",
       "    </tr>\n",
       "    <tr>\n",
       "      <th>min</th>\n",
       "      <td>0.00</td>\n",
       "      <td>0.000000</td>\n",
       "      <td>0.000000</td>\n",
       "      <td>18.000000</td>\n",
       "      <td>1.000000</td>\n",
       "      <td>8.498700e+05</td>\n",
       "    </tr>\n",
       "    <tr>\n",
       "      <th>25%</th>\n",
       "      <td>0.00</td>\n",
       "      <td>7.000000</td>\n",
       "      <td>0.000000</td>\n",
       "      <td>34.750000</td>\n",
       "      <td>2.750000</td>\n",
       "      <td>2.688328e+06</td>\n",
       "    </tr>\n",
       "    <tr>\n",
       "      <th>50%</th>\n",
       "      <td>1.00</td>\n",
       "      <td>12.000000</td>\n",
       "      <td>1.500000</td>\n",
       "      <td>45.000000</td>\n",
       "      <td>3.650000</td>\n",
       "      <td>3.911401e+06</td>\n",
       "    </tr>\n",
       "    <tr>\n",
       "      <th>75%</th>\n",
       "      <td>1.00</td>\n",
       "      <td>16.250000</td>\n",
       "      <td>3.000000</td>\n",
       "      <td>57.250000</td>\n",
       "      <td>5.100000</td>\n",
       "      <td>5.330084e+06</td>\n",
       "    </tr>\n",
       "    <tr>\n",
       "      <th>max</th>\n",
       "      <td>1.00</td>\n",
       "      <td>19.000000</td>\n",
       "      <td>4.000000</td>\n",
       "      <td>126.000000</td>\n",
       "      <td>13.000000</td>\n",
       "      <td>1.969694e+07</td>\n",
       "    </tr>\n",
       "  </tbody>\n",
       "</table>\n",
       "</div>"
      ],
      "text/plain": [
       "       Franchise    Category        City  No_Of_Item  Order_Placed  \\\n",
       "count     100.00  100.000000  100.000000  100.000000    100.000000   \n",
       "mean        0.55   11.480000    1.510000   49.080000      4.086000   \n",
       "std         0.50    5.675537    1.507523   22.370923      2.055101   \n",
       "min         0.00    0.000000    0.000000   18.000000      1.000000   \n",
       "25%         0.00    7.000000    0.000000   34.750000      2.750000   \n",
       "50%         1.00   12.000000    1.500000   45.000000      3.650000   \n",
       "75%         1.00   16.250000    3.000000   57.250000      5.100000   \n",
       "max         1.00   19.000000    4.000000  126.000000     13.000000   \n",
       "\n",
       "            Revenue  \n",
       "count  1.000000e+02  \n",
       "mean   4.395161e+06  \n",
       "std    2.659932e+06  \n",
       "min    8.498700e+05  \n",
       "25%    2.688328e+06  \n",
       "50%    3.911401e+06  \n",
       "75%    5.330084e+06  \n",
       "max    1.969694e+07  "
      ]
     },
     "execution_count": 51,
     "metadata": {},
     "output_type": "execute_result"
    }
   ],
   "source": [
    "df.describe()"
   ]
  },
  {
   "cell_type": "code",
   "execution_count": 52,
   "metadata": {},
   "outputs": [
    {
     "name": "stdout",
     "output_type": "stream",
     "text": [
      "<class 'pandas.core.frame.DataFrame'>\n",
      "RangeIndex: 100 entries, 0 to 99\n",
      "Data columns (total 6 columns):\n",
      " #   Column        Non-Null Count  Dtype  \n",
      "---  ------        --------------  -----  \n",
      " 0   Franchise     100 non-null    int32  \n",
      " 1   Category      100 non-null    int32  \n",
      " 2   City          100 non-null    int32  \n",
      " 3   No_Of_Item    100 non-null    int64  \n",
      " 4   Order_Placed  100 non-null    float64\n",
      " 5   Revenue       100 non-null    int64  \n",
      "dtypes: float64(1), int32(3), int64(2)\n",
      "memory usage: 3.6 KB\n"
     ]
    }
   ],
   "source": [
    "df.info()"
   ]
  },
  {
   "cell_type": "code",
   "execution_count": 53,
   "metadata": {},
   "outputs": [
    {
     "data": {
      "text/plain": [
       "Franchise       0\n",
       "Category        0\n",
       "City            0\n",
       "No_Of_Item      0\n",
       "Order_Placed    0\n",
       "Revenue         0\n",
       "dtype: int64"
      ]
     },
     "execution_count": 53,
     "metadata": {},
     "output_type": "execute_result"
    }
   ],
   "source": [
    "df.isnull().sum()"
   ]
  },
  {
   "cell_type": "code",
   "execution_count": 57,
   "metadata": {},
   "outputs": [],
   "source": [
    "x = df.drop(columns=['Revenue'])\n",
    "y = df['Revenue']\n",
    "\n",
    "x_train, x_test, y_train, y_test = train_test_split(x, y, test_size=0.2)"
   ]
  },
  {
   "cell_type": "code",
   "execution_count": 61,
   "metadata": {},
   "outputs": [
    {
     "name": "stdout",
     "output_type": "stream",
     "text": [
      "Accuracy: 0.8666223653128365\n"
     ]
    }
   ],
   "source": [
    "from sklearn.linear_model import LinearRegression, Ridge,\n",
    "lr = LinearRegression()\n",
    "lr.fit(x_train, y_train)\n",
    "y_pred = lr.predict(x_test)\n",
    "print('Accuracy:', lr.score(x_test, y_test))"
   ]
  }
 ],
 "metadata": {
  "kernelspec": {
   "display_name": "Python 3",
   "language": "python",
   "name": "python3"
  },
  "language_info": {
   "codemirror_mode": {
    "name": "ipython",
    "version": 3
   },
   "file_extension": ".py",
   "mimetype": "text/x-python",
   "name": "python",
   "nbconvert_exporter": "python",
   "pygments_lexer": "ipython3",
   "version": "3.12.7"
  }
 },
 "nbformat": 4,
 "nbformat_minor": 2
}
