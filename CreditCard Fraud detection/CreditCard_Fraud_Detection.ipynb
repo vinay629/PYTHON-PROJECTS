{
 "cells": [
  {
   "cell_type": "code",
   "execution_count": 28,
   "metadata": {},
   "outputs": [],
   "source": [
    "import numpy as np\n",
    "import pandas as pd\n",
    "import matplotlib.pyplot as plt\n",
    "import seaborn as sns"
   ]
  },
  {
   "cell_type": "code",
   "execution_count": 29,
   "metadata": {},
   "outputs": [
    {
     "data": {
      "text/html": [
       "<div>\n",
       "<style scoped>\n",
       "    .dataframe tbody tr th:only-of-type {\n",
       "        vertical-align: middle;\n",
       "    }\n",
       "\n",
       "    .dataframe tbody tr th {\n",
       "        vertical-align: top;\n",
       "    }\n",
       "\n",
       "    .dataframe thead th {\n",
       "        text-align: right;\n",
       "    }\n",
       "</style>\n",
       "<table border=\"1\" class=\"dataframe\">\n",
       "  <thead>\n",
       "    <tr style=\"text-align: right;\">\n",
       "      <th></th>\n",
       "      <th>Time</th>\n",
       "      <th>V1</th>\n",
       "      <th>V2</th>\n",
       "      <th>V3</th>\n",
       "      <th>V4</th>\n",
       "      <th>V5</th>\n",
       "      <th>V6</th>\n",
       "      <th>V7</th>\n",
       "      <th>V8</th>\n",
       "      <th>V9</th>\n",
       "      <th>...</th>\n",
       "      <th>V21</th>\n",
       "      <th>V22</th>\n",
       "      <th>V23</th>\n",
       "      <th>V24</th>\n",
       "      <th>V25</th>\n",
       "      <th>V26</th>\n",
       "      <th>V27</th>\n",
       "      <th>V28</th>\n",
       "      <th>Amount</th>\n",
       "      <th>Class</th>\n",
       "    </tr>\n",
       "  </thead>\n",
       "  <tbody>\n",
       "    <tr>\n",
       "      <th>4636</th>\n",
       "      <td>4012</td>\n",
       "      <td>1.125216</td>\n",
       "      <td>0.163179</td>\n",
       "      <td>0.498409</td>\n",
       "      <td>1.625812</td>\n",
       "      <td>-0.202659</td>\n",
       "      <td>-0.154266</td>\n",
       "      <td>-0.078656</td>\n",
       "      <td>-0.032005</td>\n",
       "      <td>1.757896</td>\n",
       "      <td>...</td>\n",
       "      <td>-0.253248</td>\n",
       "      <td>-0.353874</td>\n",
       "      <td>-0.054588</td>\n",
       "      <td>0.001569</td>\n",
       "      <td>0.590922</td>\n",
       "      <td>-0.349627</td>\n",
       "      <td>0.001094</td>\n",
       "      <td>0.010770</td>\n",
       "      <td>29.99</td>\n",
       "      <td>0.0</td>\n",
       "    </tr>\n",
       "    <tr>\n",
       "      <th>1273</th>\n",
       "      <td>980</td>\n",
       "      <td>-0.370801</td>\n",
       "      <td>0.991591</td>\n",
       "      <td>1.156488</td>\n",
       "      <td>-0.119425</td>\n",
       "      <td>0.177933</td>\n",
       "      <td>-0.497759</td>\n",
       "      <td>0.532327</td>\n",
       "      <td>0.148150</td>\n",
       "      <td>-0.492472</td>\n",
       "      <td>...</td>\n",
       "      <td>-0.243260</td>\n",
       "      <td>-0.713885</td>\n",
       "      <td>-0.054271</td>\n",
       "      <td>-0.078738</td>\n",
       "      <td>-0.176470</td>\n",
       "      <td>0.078166</td>\n",
       "      <td>0.234831</td>\n",
       "      <td>0.083048</td>\n",
       "      <td>3.56</td>\n",
       "      <td>0.0</td>\n",
       "    </tr>\n",
       "    <tr>\n",
       "      <th>5201</th>\n",
       "      <td>4972</td>\n",
       "      <td>1.098244</td>\n",
       "      <td>-0.100154</td>\n",
       "      <td>1.096630</td>\n",
       "      <td>1.597263</td>\n",
       "      <td>-0.915397</td>\n",
       "      <td>-0.282792</td>\n",
       "      <td>-0.541985</td>\n",
       "      <td>0.009442</td>\n",
       "      <td>2.273679</td>\n",
       "      <td>...</td>\n",
       "      <td>-0.053218</td>\n",
       "      <td>0.179254</td>\n",
       "      <td>-0.145289</td>\n",
       "      <td>0.331523</td>\n",
       "      <td>0.567587</td>\n",
       "      <td>-0.254045</td>\n",
       "      <td>0.017003</td>\n",
       "      <td>0.027445</td>\n",
       "      <td>47.77</td>\n",
       "      <td>0.0</td>\n",
       "    </tr>\n",
       "    <tr>\n",
       "      <th>4225</th>\n",
       "      <td>3752</td>\n",
       "      <td>-0.623444</td>\n",
       "      <td>0.097929</td>\n",
       "      <td>1.985744</td>\n",
       "      <td>-1.231730</td>\n",
       "      <td>0.014521</td>\n",
       "      <td>1.025585</td>\n",
       "      <td>-0.167525</td>\n",
       "      <td>0.391701</td>\n",
       "      <td>-0.191505</td>\n",
       "      <td>...</td>\n",
       "      <td>-0.002158</td>\n",
       "      <td>0.136773</td>\n",
       "      <td>0.202057</td>\n",
       "      <td>-0.738207</td>\n",
       "      <td>-0.531860</td>\n",
       "      <td>-0.432879</td>\n",
       "      <td>0.118292</td>\n",
       "      <td>0.089969</td>\n",
       "      <td>43.29</td>\n",
       "      <td>0.0</td>\n",
       "    </tr>\n",
       "    <tr>\n",
       "      <th>3368</th>\n",
       "      <td>2912</td>\n",
       "      <td>1.357077</td>\n",
       "      <td>-0.193785</td>\n",
       "      <td>-0.517350</td>\n",
       "      <td>-1.246472</td>\n",
       "      <td>-0.037901</td>\n",
       "      <td>-0.524172</td>\n",
       "      <td>-0.046283</td>\n",
       "      <td>-0.034692</td>\n",
       "      <td>1.075581</td>\n",
       "      <td>...</td>\n",
       "      <td>0.000773</td>\n",
       "      <td>0.053417</td>\n",
       "      <td>-0.282324</td>\n",
       "      <td>-0.853258</td>\n",
       "      <td>0.880898</td>\n",
       "      <td>-0.541363</td>\n",
       "      <td>0.025465</td>\n",
       "      <td>-0.007292</td>\n",
       "      <td>1.00</td>\n",
       "      <td>0.0</td>\n",
       "    </tr>\n",
       "  </tbody>\n",
       "</table>\n",
       "<p>5 rows × 31 columns</p>\n",
       "</div>"
      ],
      "text/plain": [
       "      Time        V1        V2        V3        V4        V5        V6  \\\n",
       "4636  4012  1.125216  0.163179  0.498409  1.625812 -0.202659 -0.154266   \n",
       "1273   980 -0.370801  0.991591  1.156488 -0.119425  0.177933 -0.497759   \n",
       "5201  4972  1.098244 -0.100154  1.096630  1.597263 -0.915397 -0.282792   \n",
       "4225  3752 -0.623444  0.097929  1.985744 -1.231730  0.014521  1.025585   \n",
       "3368  2912  1.357077 -0.193785 -0.517350 -1.246472 -0.037901 -0.524172   \n",
       "\n",
       "            V7        V8        V9  ...       V21       V22       V23  \\\n",
       "4636 -0.078656 -0.032005  1.757896  ... -0.253248 -0.353874 -0.054588   \n",
       "1273  0.532327  0.148150 -0.492472  ... -0.243260 -0.713885 -0.054271   \n",
       "5201 -0.541985  0.009442  2.273679  ... -0.053218  0.179254 -0.145289   \n",
       "4225 -0.167525  0.391701 -0.191505  ... -0.002158  0.136773  0.202057   \n",
       "3368 -0.046283 -0.034692  1.075581  ...  0.000773  0.053417 -0.282324   \n",
       "\n",
       "           V24       V25       V26       V27       V28  Amount  Class  \n",
       "4636  0.001569  0.590922 -0.349627  0.001094  0.010770   29.99    0.0  \n",
       "1273 -0.078738 -0.176470  0.078166  0.234831  0.083048    3.56    0.0  \n",
       "5201  0.331523  0.567587 -0.254045  0.017003  0.027445   47.77    0.0  \n",
       "4225 -0.738207 -0.531860 -0.432879  0.118292  0.089969   43.29    0.0  \n",
       "3368 -0.853258  0.880898 -0.541363  0.025465 -0.007292    1.00    0.0  \n",
       "\n",
       "[5 rows x 31 columns]"
      ]
     },
     "execution_count": 29,
     "metadata": {},
     "output_type": "execute_result"
    }
   ],
   "source": [
    "df = pd.read_csv('creditcard.csv')\n",
    "df.sample(5)"
   ]
  },
  {
   "cell_type": "code",
   "execution_count": 30,
   "metadata": {},
   "outputs": [],
   "source": [
    "df.drop('Time', axis=1, inplace=True)"
   ]
  },
  {
   "cell_type": "code",
   "execution_count": 31,
   "metadata": {},
   "outputs": [
    {
     "name": "stdout",
     "output_type": "stream",
     "text": [
      "<class 'pandas.core.frame.DataFrame'>\n",
      "RangeIndex: 11665 entries, 0 to 11664\n",
      "Data columns (total 30 columns):\n",
      " #   Column  Non-Null Count  Dtype  \n",
      "---  ------  --------------  -----  \n",
      " 0   V1      11665 non-null  float64\n",
      " 1   V2      11665 non-null  float64\n",
      " 2   V3      11665 non-null  float64\n",
      " 3   V4      11665 non-null  float64\n",
      " 4   V5      11665 non-null  float64\n",
      " 5   V6      11665 non-null  float64\n",
      " 6   V7      11665 non-null  float64\n",
      " 7   V8      11665 non-null  float64\n",
      " 8   V9      11665 non-null  float64\n",
      " 9   V10     11665 non-null  float64\n",
      " 10  V11     11665 non-null  float64\n",
      " 11  V12     11664 non-null  float64\n",
      " 12  V13     11664 non-null  float64\n",
      " 13  V14     11664 non-null  float64\n",
      " 14  V15     11664 non-null  float64\n",
      " 15  V16     11664 non-null  float64\n",
      " 16  V17     11664 non-null  float64\n",
      " 17  V18     11664 non-null  float64\n",
      " 18  V19     11664 non-null  float64\n",
      " 19  V20     11664 non-null  float64\n",
      " 20  V21     11664 non-null  float64\n",
      " 21  V22     11664 non-null  float64\n",
      " 22  V23     11664 non-null  float64\n",
      " 23  V24     11664 non-null  float64\n",
      " 24  V25     11664 non-null  float64\n",
      " 25  V26     11664 non-null  float64\n",
      " 26  V27     11664 non-null  float64\n",
      " 27  V28     11664 non-null  float64\n",
      " 28  Amount  11664 non-null  float64\n",
      " 29  Class   11664 non-null  float64\n",
      "dtypes: float64(30)\n",
      "memory usage: 2.7 MB\n"
     ]
    }
   ],
   "source": [
    "df.info()"
   ]
  },
  {
   "cell_type": "code",
   "execution_count": 32,
   "metadata": {},
   "outputs": [
    {
     "data": {
      "text/plain": [
       "V1        0\n",
       "V2        0\n",
       "V3        0\n",
       "V4        0\n",
       "V5        0\n",
       "V6        0\n",
       "V7        0\n",
       "V8        0\n",
       "V9        0\n",
       "V10       0\n",
       "V11       0\n",
       "V12       1\n",
       "V13       1\n",
       "V14       1\n",
       "V15       1\n",
       "V16       1\n",
       "V17       1\n",
       "V18       1\n",
       "V19       1\n",
       "V20       1\n",
       "V21       1\n",
       "V22       1\n",
       "V23       1\n",
       "V24       1\n",
       "V25       1\n",
       "V26       1\n",
       "V27       1\n",
       "V28       1\n",
       "Amount    1\n",
       "Class     1\n",
       "dtype: int64"
      ]
     },
     "execution_count": 32,
     "metadata": {},
     "output_type": "execute_result"
    }
   ],
   "source": [
    "df.isnull().sum()"
   ]
  },
  {
   "cell_type": "code",
   "execution_count": 33,
   "metadata": {},
   "outputs": [],
   "source": [
    "from sklearn.impute import KNNImputer\n",
    "imputer = KNNImputer(n_neighbors=5)\n",
    "df_imputed = imputer.fit_transform(df)\n",
    "df_imputed = pd.DataFrame(df_imputed, columns=df.columns)\n"
   ]
  },
  {
   "cell_type": "code",
   "execution_count": 34,
   "metadata": {},
   "outputs": [
    {
     "data": {
      "text/plain": [
       "V1        0\n",
       "V2        0\n",
       "V3        0\n",
       "V4        0\n",
       "V5        0\n",
       "V6        0\n",
       "V7        0\n",
       "V8        0\n",
       "V9        0\n",
       "V10       0\n",
       "V11       0\n",
       "V12       0\n",
       "V13       0\n",
       "V14       0\n",
       "V15       0\n",
       "V16       0\n",
       "V17       0\n",
       "V18       0\n",
       "V19       0\n",
       "V20       0\n",
       "V21       0\n",
       "V22       0\n",
       "V23       0\n",
       "V24       0\n",
       "V25       0\n",
       "V26       0\n",
       "V27       0\n",
       "V28       0\n",
       "Amount    0\n",
       "Class     0\n",
       "dtype: int64"
      ]
     },
     "execution_count": 34,
     "metadata": {},
     "output_type": "execute_result"
    }
   ],
   "source": [
    "df_imputed.isnull().sum()"
   ]
  },
  {
   "cell_type": "code",
   "execution_count": 35,
   "metadata": {},
   "outputs": [
    {
     "data": {
      "text/plain": [
       "count    11665.000000\n",
       "mean        62.790606\n",
       "std        179.809739\n",
       "min          0.000000\n",
       "25%          5.000000\n",
       "50%         15.950000\n",
       "75%         50.000000\n",
       "max       7712.430000\n",
       "Name: Amount, dtype: float64"
      ]
     },
     "execution_count": 35,
     "metadata": {},
     "output_type": "execute_result"
    }
   ],
   "source": [
    "df_imputed['Amount'].describe()"
   ]
  },
  {
   "cell_type": "code",
   "execution_count": 36,
   "metadata": {},
   "outputs": [
    {
     "name": "stdout",
     "output_type": "stream",
     "text": [
      "Non-fraudulent transactions: 11616\n",
      "Fraudulent transactions: 49\n",
      "Percentage of fraudulent transactions: 0.42 %\n"
     ]
    }
   ],
   "source": [
    "non_fraud = df_imputed[df_imputed.Class == 0]['Class'].count()\n",
    "print('Non-fraudulent transactions:', non_fraud)\n",
    "\n",
    "fraud = df_imputed[df_imputed.Class == 1]['Class'].count()\n",
    "print('Fraudulent transactions:', fraud)\n",
    "\n",
    "percent = round((fraud / (fraud + non_fraud)) * 100,2)\n",
    "print('Percentage of fraudulent transactions:', percent,'%')"
   ]
  },
  {
   "cell_type": "code",
   "execution_count": 38,
   "metadata": {},
   "outputs": [],
   "source": [
    "from sklearn.preprocessing import StandardScaler\n",
    "scaler = StandardScaler()\n",
    "\n",
    "df_imputed['Amount'] = scaler.fit_transform(df_imputed['Amount'].values.reshape(-1,1))\n",
    "x = df_imputed.drop('Class', axis=1)\n",
    "y = df_imputed['Class']"
   ]
  },
  {
   "cell_type": "code",
   "execution_count": 42,
   "metadata": {},
   "outputs": [
    {
     "name": "stdout",
     "output_type": "stream",
     "text": [
      "Accuracy: 99.95713673381911 %\n"
     ]
    },
    {
     "data": {
      "image/png": "[encoded data removed]",
      "text/plain": [
       "<Figure size 640x480 with 2 Axes>"
      ]
     },
     "metadata": {},
     "output_type": "display_data"
    }
   ],
   "source": [
    "from sklearn.model_selection import train_test_split\n",
    "x_train, x_test, y_train, y_test = train_test_split(x, y, test_size=0.2, random_state=42)\n",
    "\n",
    "from sklearn.ensemble import RandomForestClassifier\n",
    "rf = RandomForestClassifier(n_estimators=100, n_jobs=-1)\n",
    "rf.fit(x_train, y_train)\n",
    "y_pred = rf.predict(x_test)\n",
    "\n",
    "from sklearn.metrics import accuracy_score, confusion_matrix, ConfusionMatrixDisplay\n",
    "accuracy = accuracy_score(y_test, y_pred)\n",
    "print('Accuracy:', accuracy*100,'%')\n",
    "\n",
    "cm = confusion_matrix(y_test, y_pred)\n",
    "disp = ConfusionMatrixDisplay(confusion_matrix=cm, display_labels=['Non-fraud', 'Fraud'])\n",
    "disp.plot()\n",
    "plt.show()"
   ]
  }
 ],
 "metadata": {
  "kernelspec": {
   "display_name": "Python 3",
   "language": "python",
   "name": "python3"
  },
  "language_info": {
   "codemirror_mode": {
    "name": "ipython",
    "version": 3
   },
   "file_extension": ".py",
   "mimetype": "text/x-python",
   "name": "python",
   "nbconvert_exporter": "python",
   "pygments_lexer": "ipython3",
   "version": "3.12.7"
  }
 },
 "nbformat": 4,
 "nbformat_minor": 2
}
